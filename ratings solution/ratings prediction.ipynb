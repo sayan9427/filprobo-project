{
 "cells": [
  {
   "cell_type": "code",
   "execution_count": 55,
   "id": "77bfac1a",
   "metadata": {},
   "outputs": [],
   "source": [
    "import pandas\n",
    "import pandas as pd\n",
    "import numpy as np\n",
    "import seaborn as sns\n",
    "import matplotlib.pyplot as plt\n",
    "import re\n",
    "from nltk.corpus import stopwords\n",
    "from nltk.stem.porter import PorterStemmer\n",
    "from sklearn.feature_extraction.text import TfidfVectorizer\n",
    "import warnings\n",
    "warnings.filterwarnings('ignore')"
   ]
  },
  {
   "cell_type": "code",
   "execution_count": 43,
   "id": "0acf9ff8",
   "metadata": {},
   "outputs": [
    {
     "data": {
      "text/html": [
       "<div>\n",
       "<style scoped>\n",
       "    .dataframe tbody tr th:only-of-type {\n",
       "        vertical-align: middle;\n",
       "    }\n",
       "\n",
       "    .dataframe tbody tr th {\n",
       "        vertical-align: top;\n",
       "    }\n",
       "\n",
       "    .dataframe thead th {\n",
       "        text-align: right;\n",
       "    }\n",
       "</style>\n",
       "<table border=\"1\" class=\"dataframe\">\n",
       "  <thead>\n",
       "    <tr style=\"text-align: right;\">\n",
       "      <th></th>\n",
       "      <th>Unnamed: 0</th>\n",
       "      <th>reviews.rating</th>\n",
       "      <th>reviews.text</th>\n",
       "    </tr>\n",
       "  </thead>\n",
       "  <tbody>\n",
       "    <tr>\n",
       "      <th>0</th>\n",
       "      <td>0</td>\n",
       "      <td>5.0</td>\n",
       "      <td>This keyboard is very easy to type on, but the...</td>\n",
       "    </tr>\n",
       "    <tr>\n",
       "      <th>1</th>\n",
       "      <td>1</td>\n",
       "      <td>4.0</td>\n",
       "      <td>It's thin and light. I can type pretty easily ...</td>\n",
       "    </tr>\n",
       "    <tr>\n",
       "      <th>2</th>\n",
       "      <td>2</td>\n",
       "      <td>4.0</td>\n",
       "      <td>I love the new design the keys are spaced well...</td>\n",
       "    </tr>\n",
       "    <tr>\n",
       "      <th>3</th>\n",
       "      <td>3</td>\n",
       "      <td>5.0</td>\n",
       "      <td>Attached easily and firmly. Has a nice feel. A...</td>\n",
       "    </tr>\n",
       "    <tr>\n",
       "      <th>4</th>\n",
       "      <td>4</td>\n",
       "      <td>5.0</td>\n",
       "      <td>Our original keyboard was okay, but did not ha...</td>\n",
       "    </tr>\n",
       "    <tr>\n",
       "      <th>...</th>\n",
       "      <td>...</td>\n",
       "      <td>...</td>\n",
       "      <td>...</td>\n",
       "    </tr>\n",
       "    <tr>\n",
       "      <th>7294</th>\n",
       "      <td>7294</td>\n",
       "      <td>4.0</td>\n",
       "      <td>This remote was a decent replacement for my lo...</td>\n",
       "    </tr>\n",
       "    <tr>\n",
       "      <th>7295</th>\n",
       "      <td>7295</td>\n",
       "      <td>4.0</td>\n",
       "      <td>This looks good on my celling. Flushes very we...</td>\n",
       "    </tr>\n",
       "    <tr>\n",
       "      <th>7296</th>\n",
       "      <td>7296</td>\n",
       "      <td>4.0</td>\n",
       "      <td>Great Plate for projector mount, very easy to ...</td>\n",
       "    </tr>\n",
       "    <tr>\n",
       "      <th>7297</th>\n",
       "      <td>7297</td>\n",
       "      <td>5.0</td>\n",
       "      <td>This mount worked very well for me when I used...</td>\n",
       "    </tr>\n",
       "    <tr>\n",
       "      <th>7298</th>\n",
       "      <td>7298</td>\n",
       "      <td>4.0</td>\n",
       "      <td>It's a nice solid mounting plate check and mak...</td>\n",
       "    </tr>\n",
       "  </tbody>\n",
       "</table>\n",
       "<p>7299 rows × 3 columns</p>\n",
       "</div>"
      ],
      "text/plain": [
       "      Unnamed: 0  reviews.rating  \\\n",
       "0              0             5.0   \n",
       "1              1             4.0   \n",
       "2              2             4.0   \n",
       "3              3             5.0   \n",
       "4              4             5.0   \n",
       "...          ...             ...   \n",
       "7294        7294             4.0   \n",
       "7295        7295             4.0   \n",
       "7296        7296             4.0   \n",
       "7297        7297             5.0   \n",
       "7298        7298             4.0   \n",
       "\n",
       "                                           reviews.text  \n",
       "0     This keyboard is very easy to type on, but the...  \n",
       "1     It's thin and light. I can type pretty easily ...  \n",
       "2     I love the new design the keys are spaced well...  \n",
       "3     Attached easily and firmly. Has a nice feel. A...  \n",
       "4     Our original keyboard was okay, but did not ha...  \n",
       "...                                                 ...  \n",
       "7294  This remote was a decent replacement for my lo...  \n",
       "7295  This looks good on my celling. Flushes very we...  \n",
       "7296  Great Plate for projector mount, very easy to ...  \n",
       "7297  This mount worked very well for me when I used...  \n",
       "7298  It's a nice solid mounting plate check and mak...  \n",
       "\n",
       "[7299 rows x 3 columns]"
      ]
     },
     "execution_count": 43,
     "metadata": {},
     "output_type": "execute_result"
    }
   ],
   "source": [
    "train_df=pd.read_csv('review_ratings_prediction.csv')\n",
    "train_df"
   ]
  },
  {
   "cell_type": "code",
   "execution_count": 44,
   "id": "be03c6f0",
   "metadata": {},
   "outputs": [
    {
     "data": {
      "text/html": [
       "<div>\n",
       "<style scoped>\n",
       "    .dataframe tbody tr th:only-of-type {\n",
       "        vertical-align: middle;\n",
       "    }\n",
       "\n",
       "    .dataframe tbody tr th {\n",
       "        vertical-align: top;\n",
       "    }\n",
       "\n",
       "    .dataframe thead th {\n",
       "        text-align: right;\n",
       "    }\n",
       "</style>\n",
       "<table border=\"1\" class=\"dataframe\">\n",
       "  <thead>\n",
       "    <tr style=\"text-align: right;\">\n",
       "      <th></th>\n",
       "      <th>reviews.rating</th>\n",
       "      <th>reviews.text</th>\n",
       "    </tr>\n",
       "  </thead>\n",
       "  <tbody>\n",
       "    <tr>\n",
       "      <th>0</th>\n",
       "      <td>5.0</td>\n",
       "      <td>This keyboard is very easy to type on, but the...</td>\n",
       "    </tr>\n",
       "    <tr>\n",
       "      <th>1</th>\n",
       "      <td>4.0</td>\n",
       "      <td>It's thin and light. I can type pretty easily ...</td>\n",
       "    </tr>\n",
       "    <tr>\n",
       "      <th>2</th>\n",
       "      <td>4.0</td>\n",
       "      <td>I love the new design the keys are spaced well...</td>\n",
       "    </tr>\n",
       "    <tr>\n",
       "      <th>3</th>\n",
       "      <td>5.0</td>\n",
       "      <td>Attached easily and firmly. Has a nice feel. A...</td>\n",
       "    </tr>\n",
       "    <tr>\n",
       "      <th>4</th>\n",
       "      <td>5.0</td>\n",
       "      <td>Our original keyboard was okay, but did not ha...</td>\n",
       "    </tr>\n",
       "    <tr>\n",
       "      <th>...</th>\n",
       "      <td>...</td>\n",
       "      <td>...</td>\n",
       "    </tr>\n",
       "    <tr>\n",
       "      <th>7294</th>\n",
       "      <td>4.0</td>\n",
       "      <td>This remote was a decent replacement for my lo...</td>\n",
       "    </tr>\n",
       "    <tr>\n",
       "      <th>7295</th>\n",
       "      <td>4.0</td>\n",
       "      <td>This looks good on my celling. Flushes very we...</td>\n",
       "    </tr>\n",
       "    <tr>\n",
       "      <th>7296</th>\n",
       "      <td>4.0</td>\n",
       "      <td>Great Plate for projector mount, very easy to ...</td>\n",
       "    </tr>\n",
       "    <tr>\n",
       "      <th>7297</th>\n",
       "      <td>5.0</td>\n",
       "      <td>This mount worked very well for me when I used...</td>\n",
       "    </tr>\n",
       "    <tr>\n",
       "      <th>7298</th>\n",
       "      <td>4.0</td>\n",
       "      <td>It's a nice solid mounting plate check and mak...</td>\n",
       "    </tr>\n",
       "  </tbody>\n",
       "</table>\n",
       "<p>7299 rows × 2 columns</p>\n",
       "</div>"
      ],
      "text/plain": [
       "      reviews.rating                                       reviews.text\n",
       "0                5.0  This keyboard is very easy to type on, but the...\n",
       "1                4.0  It's thin and light. I can type pretty easily ...\n",
       "2                4.0  I love the new design the keys are spaced well...\n",
       "3                5.0  Attached easily and firmly. Has a nice feel. A...\n",
       "4                5.0  Our original keyboard was okay, but did not ha...\n",
       "...              ...                                                ...\n",
       "7294             4.0  This remote was a decent replacement for my lo...\n",
       "7295             4.0  This looks good on my celling. Flushes very we...\n",
       "7296             4.0  Great Plate for projector mount, very easy to ...\n",
       "7297             5.0  This mount worked very well for me when I used...\n",
       "7298             4.0  It's a nice solid mounting plate check and mak...\n",
       "\n",
       "[7299 rows x 2 columns]"
      ]
     },
     "execution_count": 44,
     "metadata": {},
     "output_type": "execute_result"
    }
   ],
   "source": [
    "train_df.drop(['Unnamed: 0'],axis=1,inplace=True)\n",
    "train_df"
   ]
  },
  {
   "cell_type": "code",
   "execution_count": 45,
   "id": "afb3d958",
   "metadata": {},
   "outputs": [
    {
     "data": {
      "text/html": [
       "<div>\n",
       "<style scoped>\n",
       "    .dataframe tbody tr th:only-of-type {\n",
       "        vertical-align: middle;\n",
       "    }\n",
       "\n",
       "    .dataframe tbody tr th {\n",
       "        vertical-align: top;\n",
       "    }\n",
       "\n",
       "    .dataframe thead th {\n",
       "        text-align: right;\n",
       "    }\n",
       "</style>\n",
       "<table border=\"1\" class=\"dataframe\">\n",
       "  <thead>\n",
       "    <tr style=\"text-align: right;\">\n",
       "      <th></th>\n",
       "      <th>reviews.rating</th>\n",
       "      <th>reviews.text</th>\n",
       "    </tr>\n",
       "  </thead>\n",
       "  <tbody>\n",
       "    <tr>\n",
       "      <th>0</th>\n",
       "      <td>5.0</td>\n",
       "      <td>This keyboard is very easy to type on, but the...</td>\n",
       "    </tr>\n",
       "    <tr>\n",
       "      <th>1</th>\n",
       "      <td>4.0</td>\n",
       "      <td>It's thin and light. I can type pretty easily ...</td>\n",
       "    </tr>\n",
       "    <tr>\n",
       "      <th>2</th>\n",
       "      <td>4.0</td>\n",
       "      <td>I love the new design the keys are spaced well...</td>\n",
       "    </tr>\n",
       "    <tr>\n",
       "      <th>3</th>\n",
       "      <td>5.0</td>\n",
       "      <td>Attached easily and firmly. Has a nice feel. A...</td>\n",
       "    </tr>\n",
       "    <tr>\n",
       "      <th>4</th>\n",
       "      <td>5.0</td>\n",
       "      <td>Our original keyboard was okay, but did not ha...</td>\n",
       "    </tr>\n",
       "  </tbody>\n",
       "</table>\n",
       "</div>"
      ],
      "text/plain": [
       "   reviews.rating                                       reviews.text\n",
       "0             5.0  This keyboard is very easy to type on, but the...\n",
       "1             4.0  It's thin and light. I can type pretty easily ...\n",
       "2             4.0  I love the new design the keys are spaced well...\n",
       "3             5.0  Attached easily and firmly. Has a nice feel. A...\n",
       "4             5.0  Our original keyboard was okay, but did not ha..."
      ]
     },
     "execution_count": 45,
     "metadata": {},
     "output_type": "execute_result"
    }
   ],
   "source": [
    "train_df.head()"
   ]
  },
  {
   "cell_type": "code",
   "execution_count": 46,
   "id": "cfc67b22",
   "metadata": {},
   "outputs": [
    {
     "data": {
      "text/html": [
       "<div>\n",
       "<style scoped>\n",
       "    .dataframe tbody tr th:only-of-type {\n",
       "        vertical-align: middle;\n",
       "    }\n",
       "\n",
       "    .dataframe tbody tr th {\n",
       "        vertical-align: top;\n",
       "    }\n",
       "\n",
       "    .dataframe thead th {\n",
       "        text-align: right;\n",
       "    }\n",
       "</style>\n",
       "<table border=\"1\" class=\"dataframe\">\n",
       "  <thead>\n",
       "    <tr style=\"text-align: right;\">\n",
       "      <th></th>\n",
       "      <th>reviews.rating</th>\n",
       "      <th>reviews.text</th>\n",
       "    </tr>\n",
       "  </thead>\n",
       "  <tbody>\n",
       "    <tr>\n",
       "      <th>7294</th>\n",
       "      <td>4.0</td>\n",
       "      <td>This remote was a decent replacement for my lo...</td>\n",
       "    </tr>\n",
       "    <tr>\n",
       "      <th>7295</th>\n",
       "      <td>4.0</td>\n",
       "      <td>This looks good on my celling. Flushes very we...</td>\n",
       "    </tr>\n",
       "    <tr>\n",
       "      <th>7296</th>\n",
       "      <td>4.0</td>\n",
       "      <td>Great Plate for projector mount, very easy to ...</td>\n",
       "    </tr>\n",
       "    <tr>\n",
       "      <th>7297</th>\n",
       "      <td>5.0</td>\n",
       "      <td>This mount worked very well for me when I used...</td>\n",
       "    </tr>\n",
       "    <tr>\n",
       "      <th>7298</th>\n",
       "      <td>4.0</td>\n",
       "      <td>It's a nice solid mounting plate check and mak...</td>\n",
       "    </tr>\n",
       "  </tbody>\n",
       "</table>\n",
       "</div>"
      ],
      "text/plain": [
       "      reviews.rating                                       reviews.text\n",
       "7294             4.0  This remote was a decent replacement for my lo...\n",
       "7295             4.0  This looks good on my celling. Flushes very we...\n",
       "7296             4.0  Great Plate for projector mount, very easy to ...\n",
       "7297             5.0  This mount worked very well for me when I used...\n",
       "7298             4.0  It's a nice solid mounting plate check and mak..."
      ]
     },
     "execution_count": 46,
     "metadata": {},
     "output_type": "execute_result"
    }
   ],
   "source": [
    "train_df.tail()"
   ]
  },
  {
   "cell_type": "code",
   "execution_count": 47,
   "id": "b67e5836",
   "metadata": {},
   "outputs": [
    {
     "data": {
      "text/plain": [
       "reviews.rating    164\n",
       "reviews.text        5\n",
       "dtype: int64"
      ]
     },
     "execution_count": 47,
     "metadata": {},
     "output_type": "execute_result"
    }
   ],
   "source": [
    "train_df.isnull().sum()"
   ]
  },
  {
   "cell_type": "code",
   "execution_count": 48,
   "id": "2a67e267",
   "metadata": {},
   "outputs": [],
   "source": [
    "train_df.dropna(inplace=True)\n"
   ]
  },
  {
   "cell_type": "code",
   "execution_count": 49,
   "id": "ef182c6d",
   "metadata": {},
   "outputs": [
    {
     "data": {
      "text/plain": [
       "reviews.rating    0\n",
       "reviews.text      0\n",
       "dtype: int64"
      ]
     },
     "execution_count": 49,
     "metadata": {},
     "output_type": "execute_result"
    }
   ],
   "source": [
    "train_df.isnull().sum()"
   ]
  },
  {
   "cell_type": "code",
   "execution_count": 50,
   "id": "83a05eab",
   "metadata": {},
   "outputs": [
    {
     "name": "stdout",
     "output_type": "stream",
     "text": [
      "train shape is  (7130, 2)\n",
      "train info <bound method DataFrame.info of       reviews.rating                                       reviews.text\n",
      "0                5.0  This keyboard is very easy to type on, but the...\n",
      "1                4.0  It's thin and light. I can type pretty easily ...\n",
      "2                4.0  I love the new design the keys are spaced well...\n",
      "3                5.0  Attached easily and firmly. Has a nice feel. A...\n",
      "4                5.0  Our original keyboard was okay, but did not ha...\n",
      "...              ...                                                ...\n",
      "7294             4.0  This remote was a decent replacement for my lo...\n",
      "7295             4.0  This looks good on my celling. Flushes very we...\n",
      "7296             4.0  Great Plate for projector mount, very easy to ...\n",
      "7297             5.0  This mount worked very well for me when I used...\n",
      "7298             4.0  It's a nice solid mounting plate check and mak...\n",
      "\n",
      "[7130 rows x 2 columns]>\n"
     ]
    }
   ],
   "source": [
    "print('train shape is ',train_df.shape,)\n",
    "print('train info',train_df.info)"
   ]
  },
  {
   "cell_type": "code",
   "execution_count": 51,
   "id": "2efc7f53",
   "metadata": {},
   "outputs": [
    {
     "name": "stdout",
     "output_type": "stream",
     "text": [
      "train data Set descriptin        reviews.rating\n",
      "count     7130.000000\n",
      "mean         4.371950\n",
      "std          1.038844\n",
      "min          1.000000\n",
      "25%          4.000000\n",
      "50%          5.000000\n",
      "75%          5.000000\n",
      "max          5.000000\n"
     ]
    }
   ],
   "source": [
    "print('train data Set descriptin',train_df.describe())"
   ]
  },
  {
   "cell_type": "code",
   "execution_count": 52,
   "id": "ec34cdd3",
   "metadata": {},
   "outputs": [
    {
     "data": {
      "text/html": [
       "<div>\n",
       "<style scoped>\n",
       "    .dataframe tbody tr th:only-of-type {\n",
       "        vertical-align: middle;\n",
       "    }\n",
       "\n",
       "    .dataframe tbody tr th {\n",
       "        vertical-align: top;\n",
       "    }\n",
       "\n",
       "    .dataframe thead th {\n",
       "        text-align: right;\n",
       "    }\n",
       "</style>\n",
       "<table border=\"1\" class=\"dataframe\">\n",
       "  <thead>\n",
       "    <tr style=\"text-align: right;\">\n",
       "      <th></th>\n",
       "      <th>reviews.text</th>\n",
       "    </tr>\n",
       "  </thead>\n",
       "  <tbody>\n",
       "    <tr>\n",
       "      <th>0</th>\n",
       "      <td>This keyboard is very easy to type on, but the...</td>\n",
       "    </tr>\n",
       "    <tr>\n",
       "      <th>1</th>\n",
       "      <td>It's thin and light. I can type pretty easily ...</td>\n",
       "    </tr>\n",
       "    <tr>\n",
       "      <th>2</th>\n",
       "      <td>I love the new design the keys are spaced well...</td>\n",
       "    </tr>\n",
       "    <tr>\n",
       "      <th>3</th>\n",
       "      <td>Attached easily and firmly. Has a nice feel. A...</td>\n",
       "    </tr>\n",
       "    <tr>\n",
       "      <th>4</th>\n",
       "      <td>Our original keyboard was okay, but did not ha...</td>\n",
       "    </tr>\n",
       "    <tr>\n",
       "      <th>...</th>\n",
       "      <td>...</td>\n",
       "    </tr>\n",
       "    <tr>\n",
       "      <th>7294</th>\n",
       "      <td>This remote was a decent replacement for my lo...</td>\n",
       "    </tr>\n",
       "    <tr>\n",
       "      <th>7295</th>\n",
       "      <td>This looks good on my celling. Flushes very we...</td>\n",
       "    </tr>\n",
       "    <tr>\n",
       "      <th>7296</th>\n",
       "      <td>Great Plate for projector mount, very easy to ...</td>\n",
       "    </tr>\n",
       "    <tr>\n",
       "      <th>7297</th>\n",
       "      <td>This mount worked very well for me when I used...</td>\n",
       "    </tr>\n",
       "    <tr>\n",
       "      <th>7298</th>\n",
       "      <td>It's a nice solid mounting plate check and mak...</td>\n",
       "    </tr>\n",
       "  </tbody>\n",
       "</table>\n",
       "<p>7130 rows × 1 columns</p>\n",
       "</div>"
      ],
      "text/plain": [
       "                                           reviews.text\n",
       "0     This keyboard is very easy to type on, but the...\n",
       "1     It's thin and light. I can type pretty easily ...\n",
       "2     I love the new design the keys are spaced well...\n",
       "3     Attached easily and firmly. Has a nice feel. A...\n",
       "4     Our original keyboard was okay, but did not ha...\n",
       "...                                                 ...\n",
       "7294  This remote was a decent replacement for my lo...\n",
       "7295  This looks good on my celling. Flushes very we...\n",
       "7296  Great Plate for projector mount, very easy to ...\n",
       "7297  This mount worked very well for me when I used...\n",
       "7298  It's a nice solid mounting plate check and mak...\n",
       "\n",
       "[7130 rows x 1 columns]"
      ]
     },
     "execution_count": 52,
     "metadata": {},
     "output_type": "execute_result"
    }
   ],
   "source": [
    "x=train_df.drop(['reviews.rating'],axis=1)\n",
    "x"
   ]
  },
  {
   "cell_type": "code",
   "execution_count": 53,
   "id": "3bfd7cc5",
   "metadata": {},
   "outputs": [
    {
     "data": {
      "text/plain": [
       "0       5.0\n",
       "1       4.0\n",
       "2       4.0\n",
       "3       5.0\n",
       "4       5.0\n",
       "       ... \n",
       "7294    4.0\n",
       "7295    4.0\n",
       "7296    4.0\n",
       "7297    5.0\n",
       "7298    4.0\n",
       "Name: reviews.rating, Length: 7130, dtype: float64"
      ]
     },
     "execution_count": 53,
     "metadata": {},
     "output_type": "execute_result"
    }
   ],
   "source": [
    "y=train_df.iloc[:,0]\n",
    "y"
   ]
  },
  {
   "cell_type": "code",
   "execution_count": 54,
   "id": "9ac3a47d",
   "metadata": {},
   "outputs": [],
   "source": [
    "port_stem=PorterStemmer()"
   ]
  },
  {
   "cell_type": "code",
   "execution_count": 57,
   "id": "e09e2077",
   "metadata": {},
   "outputs": [],
   "source": [
    "def stemming(content):\n",
    "    stemmed_content = re.sub('[^a-zA-z]',' ',content)##will remove all the data other than alphabates like (,''@numeric)###\n",
    "    stemmed_content = stemmed_content.lower() ##converting all letters to lowercase for making machine to understand easily#\n",
    "    stemmed_content = stemmed_content.split()\n",
    "   # stemmed_content = [port_stem(word) for word in  stemmed_content if not word in stopwords.words('english')]\n",
    "    stemmed_content = ' '.join(stemmed_content)\n",
    "    return stemmed_content"
   ]
  },
  {
   "cell_type": "code",
   "execution_count": 59,
   "id": "9917bc1d",
   "metadata": {},
   "outputs": [],
   "source": [
    " train_df['reviews.text']=train_df['reviews.text'].apply(stemming)"
   ]
  },
  {
   "cell_type": "code",
   "execution_count": 61,
   "id": "01657e86",
   "metadata": {},
   "outputs": [
    {
     "name": "stdout",
     "output_type": "stream",
     "text": [
      "0       this keyboard is very easy to type on but the ...\n",
      "1       it s thin and light i can type pretty easily o...\n",
      "2       i love the new design the keys are spaced well...\n",
      "3       attached easily and firmly has a nice feel a m...\n",
      "4       our original keyboard was okay but did not hav...\n",
      "                              ...                        \n",
      "7294    this remote was a decent replacement for my lo...\n",
      "7295    this looks good on my celling flushes very wel...\n",
      "7296    great plate for projector mount very easy to i...\n",
      "7297    this mount worked very well for me when i used...\n",
      "7298    it s a nice solid mounting plate check and mak...\n",
      "Name: reviews.text, Length: 7130, dtype: object\n"
     ]
    }
   ],
   "source": [
    "print(train_df['reviews.text'])"
   ]
  },
  {
   "cell_type": "code",
   "execution_count": 64,
   "id": "c1174933",
   "metadata": {},
   "outputs": [
    {
     "data": {
      "text/plain": [
       "0       this keyboard is very easy to type on but the ...\n",
       "1       it s thin and light i can type pretty easily o...\n",
       "2       i love the new design the keys are spaced well...\n",
       "3       attached easily and firmly has a nice feel a m...\n",
       "4       our original keyboard was okay but did not hav...\n",
       "                              ...                        \n",
       "7294    this remote was a decent replacement for my lo...\n",
       "7295    this looks good on my celling flushes very wel...\n",
       "7296    great plate for projector mount very easy to i...\n",
       "7297    this mount worked very well for me when i used...\n",
       "7298    it s a nice solid mounting plate check and mak...\n",
       "Name: reviews.text, Length: 7130, dtype: object"
      ]
     },
     "execution_count": 64,
     "metadata": {},
     "output_type": "execute_result"
    }
   ],
   "source": [
    "x=train_df['reviews.text']\n",
    "x"
   ]
  },
  {
   "cell_type": "code",
   "execution_count": 65,
   "id": "81d072a1",
   "metadata": {},
   "outputs": [],
   "source": [
    "feature_extraction= TfidfVectorizer (min_df=1,stop_words='english',lowercase=\"True\")\n",
    "x=feature_extraction.fit_transform(x)"
   ]
  },
  {
   "cell_type": "code",
   "execution_count": 66,
   "id": "1dc1e24d",
   "metadata": {},
   "outputs": [
    {
     "name": "stdout",
     "output_type": "stream",
     "text": [
      "  (0, 5249)\t0.3940318765354132\n",
      "  (0, 8177)\t0.4813880783230859\n",
      "  (0, 72)\t0.3798286746143133\n",
      "  (0, 3372)\t0.2639021777267799\n",
      "  (0, 868)\t0.21019804566657024\n",
      "  (0, 7155)\t0.3293513836547713\n",
      "  (0, 3461)\t0.2662696853363856\n",
      "  (0, 9476)\t0.2941626410669594\n",
      "  (0, 2851)\t0.16162036834538535\n",
      "  (0, 4906)\t0.25076346692471385\n",
      "  (1, 2849)\t0.4976631046007105\n",
      "  (1, 6795)\t0.4682230049417139\n",
      "  (1, 5153)\t0.5189644466617721\n",
      "  (1, 9476)\t0.5135898704838082\n",
      "  (2, 6835)\t0.2122321005253102\n",
      "  (2, 8871)\t0.21049739437971196\n",
      "  (2, 9692)\t0.1278955720802551\n",
      "  (2, 6108)\t0.25545284565102766\n",
      "  (2, 10131)\t0.16559109711707204\n",
      "  (2, 7234)\t0.2971991959991393\n",
      "  (2, 6822)\t0.28136865695505575\n",
      "  (2, 3457)\t0.25545284565102766\n",
      "  (2, 9480)\t0.3235283210097429\n",
      "  (2, 5650)\t0.4318616669731493\n",
      "  (2, 8433)\t0.3311746049488053\n",
      "  :\t:\n",
      "  (7128, 1641)\t0.5509987301882397\n",
      "  (7128, 1364)\t0.21931928399993356\n",
      "  (7128, 6901)\t0.224333228389627\n",
      "  (7128, 6433)\t0.2633297763761037\n",
      "  (7128, 156)\t0.40439001672439034\n",
      "  (7128, 6591)\t0.22719385848002036\n",
      "  (7128, 4624)\t0.14611547643672457\n",
      "  (7128, 5765)\t0.31323983898398844\n",
      "  (7128, 9114)\t0.1651592488024346\n",
      "  (7128, 4159)\t0.1484173209950752\n",
      "  (7128, 4246)\t0.12039836987222934\n",
      "  (7128, 7686)\t0.12872092130730842\n",
      "  (7128, 8857)\t0.15114773873897375\n",
      "  (7128, 1823)\t0.13962018303207466\n",
      "  (7128, 9694)\t0.23088736590501427\n",
      "  (7128, 10135)\t0.13414800227905418\n",
      "  (7129, 6901)\t0.4229876104936826\n",
      "  (7129, 1448)\t0.3513607862519062\n",
      "  (7129, 6591)\t0.4283814217231998\n",
      "  (7129, 5769)\t0.3701130102489762\n",
      "  (7129, 5381)\t0.23590023378842245\n",
      "  (7129, 8868)\t0.2577257158521205\n",
      "  (7129, 1709)\t0.34992799620479076\n",
      "  (7129, 8357)\t0.2992164178674881\n",
      "  (7129, 5934)\t0.20756026656821056\n"
     ]
    }
   ],
   "source": [
    "print (x)"
   ]
  },
  {
   "cell_type": "code",
   "execution_count": 75,
   "id": "7e552339",
   "metadata": {},
   "outputs": [],
   "source": [
    "import sklearn\n",
    "from sklearn.linear_model import LogisticRegression\n",
    "from sklearn.neighbors import KNeighborsClassifier\n",
    "from sklearn.ensemble import RandomForestClassifier\n",
    "from sklearn.svm import SVC\n",
    "from sklearn.tree import DecisionTreeClassifier\n",
    "from sklearn.metrics import accuracy_score,confusion_matrix,classification_report\n",
    "from sklearn.model_selection import train_test_split"
   ]
  },
  {
   "cell_type": "code",
   "execution_count": 76,
   "id": "4c0067fe",
   "metadata": {},
   "outputs": [],
   "source": [
    "x_train,x_test,y_train,y_test=train_test_split(x,y,test_size=.30,stratify=y,random_state=20)"
   ]
  },
  {
   "cell_type": "code",
   "execution_count": 79,
   "id": "8f377b43",
   "metadata": {},
   "outputs": [
    {
     "name": "stdout",
     "output_type": "stream",
     "text": [
      "Training accuracy is 0.9985974754558204\n",
      "accuracy_score of RandomForestClassifier(random_state=50) is:\n",
      "0.6470313230481534\n",
      "[[   5    0    1    8   81]\n",
      " [   2    0    1   12   52]\n",
      " [   1    1    4   16  110]\n",
      " [   0    1    0   54  443]\n",
      " [   0    0    1   25 1321]]\n",
      "              precision    recall  f1-score   support\n",
      "\n",
      "         1.0       0.62      0.05      0.10        95\n",
      "         2.0       0.00      0.00      0.00        67\n",
      "         3.0       0.57      0.03      0.06       132\n",
      "         4.0       0.47      0.11      0.18       498\n",
      "         5.0       0.66      0.98      0.79      1347\n",
      "\n",
      "    accuracy                           0.65      2139\n",
      "   macro avg       0.46      0.23      0.22      2139\n",
      "weighted avg       0.59      0.65      0.54      2139\n",
      "\n",
      "Training accuracy is 0.8974153476257263\n",
      "accuracy_score of SVC() is:\n",
      "0.6465638148667602\n",
      "[[   3    0    1    9   82]\n",
      " [   0    0    0    8   59]\n",
      " [   2    0    2   18  110]\n",
      " [   1    0    0   49  448]\n",
      " [   0    0    0   18 1329]]\n",
      "              precision    recall  f1-score   support\n",
      "\n",
      "         1.0       0.50      0.03      0.06        95\n",
      "         2.0       0.00      0.00      0.00        67\n",
      "         3.0       0.67      0.02      0.03       132\n",
      "         4.0       0.48      0.10      0.16       498\n",
      "         5.0       0.66      0.99      0.79      1347\n",
      "\n",
      "    accuracy                           0.65      2139\n",
      "   macro avg       0.46      0.23      0.21      2139\n",
      "weighted avg       0.59      0.65      0.54      2139\n",
      "\n",
      "Training accuracy is 0.7599679422961331\n",
      "accuracy_score of LogisticRegression() is:\n",
      "0.6517064048620851\n",
      "[[   9    0    3   18   65]\n",
      " [   2    0    4   14   47]\n",
      " [   3    0    1   37   91]\n",
      " [   1    0    2  111  384]\n",
      " [   1    0    0   73 1273]]\n",
      "              precision    recall  f1-score   support\n",
      "\n",
      "         1.0       0.56      0.09      0.16        95\n",
      "         2.0       0.00      0.00      0.00        67\n",
      "         3.0       0.10      0.01      0.01       132\n",
      "         4.0       0.44      0.22      0.30       498\n",
      "         5.0       0.68      0.95      0.79      1347\n",
      "\n",
      "    accuracy                           0.65      2139\n",
      "   macro avg       0.36      0.25      0.25      2139\n",
      "weighted avg       0.56      0.65      0.58      2139\n",
      "\n",
      "Training accuracy is 0.9985974754558204\n",
      "accuracy_score of DecisionTreeClassifier() is:\n",
      "0.5605423094904161\n",
      "[[  21    2   11   26   35]\n",
      " [   7    3   11   19   27]\n",
      " [  15    7   13   32   65]\n",
      " [  11    5   21  160  301]\n",
      " [  27   13   33  272 1002]]\n",
      "              precision    recall  f1-score   support\n",
      "\n",
      "         1.0       0.26      0.22      0.24        95\n",
      "         2.0       0.10      0.04      0.06        67\n",
      "         3.0       0.15      0.10      0.12       132\n",
      "         4.0       0.31      0.32      0.32       498\n",
      "         5.0       0.70      0.74      0.72      1347\n",
      "\n",
      "    accuracy                           0.56      2139\n",
      "   macro avg       0.30      0.29      0.29      2139\n",
      "weighted avg       0.54      0.56      0.55      2139\n",
      "\n",
      "Training accuracy is 0.6419555199358846\n",
      "accuracy_score of KNeighborsClassifier() is:\n",
      "0.6287985039738195\n",
      "[[   0    0    0    0   95]\n",
      " [   0    0    0    1   66]\n",
      " [   0    0    0    0  132]\n",
      " [   0    0    0    4  494]\n",
      " [   0    0    0    6 1341]]\n",
      "              precision    recall  f1-score   support\n",
      "\n",
      "         1.0       0.00      0.00      0.00        95\n",
      "         2.0       0.00      0.00      0.00        67\n",
      "         3.0       0.00      0.00      0.00       132\n",
      "         4.0       0.36      0.01      0.02       498\n",
      "         5.0       0.63      1.00      0.77      1347\n",
      "\n",
      "    accuracy                           0.63      2139\n",
      "   macro avg       0.20      0.20      0.16      2139\n",
      "weighted avg       0.48      0.63      0.49      2139\n",
      "\n"
     ]
    }
   ],
   "source": [
    "rf=RandomForestClassifier(n_estimators=100,random_state=50)\n",
    "svm=SVC()\n",
    "lg=LogisticRegression()\n",
    "dt=DecisionTreeClassifier()\n",
    "knn=KNeighborsClassifier()\n",
    "model=[rf,svm,lg,dt,knn]\n",
    "for m in model:\n",
    "    m.fit(x_train,y_train)\n",
    "    predm=m.predict(x_train)\n",
    "    print('Training accuracy is {}'.format(accuracy_score(y_train,predm)))\n",
    "    predm=m.predict(x_test)\n",
    "    print('accuracy_score of',m ,'is:')\n",
    "    print(accuracy_score(y_test,predm))\n",
    "    print(confusion_matrix(y_test,predm))\n",
    "    print(classification_report(y_test,predm))"
   ]
  },
  {
   "cell_type": "code",
   "execution_count": 81,
   "id": "882d58ab",
   "metadata": {},
   "outputs": [],
   "source": [
    "import joblib"
   ]
  },
  {
   "cell_type": "code",
   "execution_count": 82,
   "id": "fd5cf23a",
   "metadata": {},
   "outputs": [
    {
     "data": {
      "text/plain": [
       "['ratings_prediction.obj']"
      ]
     },
     "execution_count": 82,
     "metadata": {},
     "output_type": "execute_result"
    }
   ],
   "source": [
    "joblib.dump(lg,'ratings_prediction.obj')"
   ]
  },
  {
   "cell_type": "code",
   "execution_count": null,
   "id": "64c22444",
   "metadata": {},
   "outputs": [],
   "source": []
  }
 ],
 "metadata": {
  "kernelspec": {
   "display_name": "Python 3 (ipykernel)",
   "language": "python",
   "name": "python3"
  },
  "language_info": {
   "codemirror_mode": {
    "name": "ipython",
    "version": 3
   },
   "file_extension": ".py",
   "mimetype": "text/x-python",
   "name": "python",
   "nbconvert_exporter": "python",
   "pygments_lexer": "ipython3",
   "version": "3.9.7"
  }
 },
 "nbformat": 4,
 "nbformat_minor": 5
}
